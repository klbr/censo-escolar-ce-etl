{
 "cells": [
  {
   "cell_type": "code",
   "execution_count": 92,
   "metadata": {},
   "outputs": [],
   "source": [
    "import pandas as pd\n",
    "import numpy as np\n",
    "import unidecode"
   ]
  },
  {
   "cell_type": "code",
   "execution_count": 78,
   "metadata": {},
   "outputs": [],
   "source": [
    "pib_mun_2010 = pd.read_csv('data/vw_pib_percapita.csv')"
   ]
  },
  {
   "cell_type": "code",
   "execution_count": 79,
   "metadata": {},
   "outputs": [],
   "source": [
    "pib_mun_2010.drop(columns=['FID', 'gid', 'Descrição', 'Censo', 'legenda', 'classe', 'geom'], inplace=True)"
   ]
  },
  {
   "cell_type": "code",
   "execution_count": 80,
   "metadata": {},
   "outputs": [],
   "source": [
    "pib_mun_2010.columns = ['UF', 'Municipio', 'PIB', 'Populacao', 'PIB_Percapita']"
   ]
  },
  {
   "cell_type": "code",
   "execution_count": 81,
   "metadata": {},
   "outputs": [
    {
     "data": {
      "text/html": [
       "<div>\n",
       "<style scoped>\n",
       "    .dataframe tbody tr th:only-of-type {\n",
       "        vertical-align: middle;\n",
       "    }\n",
       "\n",
       "    .dataframe tbody tr th {\n",
       "        vertical-align: top;\n",
       "    }\n",
       "\n",
       "    .dataframe thead th {\n",
       "        text-align: right;\n",
       "    }\n",
       "</style>\n",
       "<table border=\"1\" class=\"dataframe\">\n",
       "  <thead>\n",
       "    <tr style=\"text-align: right;\">\n",
       "      <th></th>\n",
       "      <th>UF</th>\n",
       "      <th>Municipio</th>\n",
       "      <th>PIB</th>\n",
       "      <th>Populacao</th>\n",
       "      <th>PIB_Percapita</th>\n",
       "    </tr>\n",
       "  </thead>\n",
       "  <tbody>\n",
       "    <tr>\n",
       "      <th>0</th>\n",
       "      <td>BAHIA</td>\n",
       "      <td>Tremedal</td>\n",
       "      <td>5.788399e+04</td>\n",
       "      <td>18433</td>\n",
       "      <td>3140.239990</td>\n",
       "    </tr>\n",
       "    <tr>\n",
       "      <th>1</th>\n",
       "      <td>RIO GRANDE DO SUL</td>\n",
       "      <td>Turuçu</td>\n",
       "      <td>4.572388e+04</td>\n",
       "      <td>4000</td>\n",
       "      <td>11430.969727</td>\n",
       "    </tr>\n",
       "    <tr>\n",
       "      <th>2</th>\n",
       "      <td>ESPIRITO SANTO</td>\n",
       "      <td>Vitória</td>\n",
       "      <td>1.978263e+07</td>\n",
       "      <td>320156</td>\n",
       "      <td>61790.589844</td>\n",
       "    </tr>\n",
       "    <tr>\n",
       "      <th>3</th>\n",
       "      <td>MINAS GERAIS</td>\n",
       "      <td>Jacutinga</td>\n",
       "      <td>2.478160e+05</td>\n",
       "      <td>21424</td>\n",
       "      <td>11567.209961</td>\n",
       "    </tr>\n",
       "    <tr>\n",
       "      <th>4</th>\n",
       "      <td>PIAUÍ</td>\n",
       "      <td>Nazária</td>\n",
       "      <td>2.095138e+04</td>\n",
       "      <td>7895</td>\n",
       "      <td>2653.750000</td>\n",
       "    </tr>\n",
       "  </tbody>\n",
       "</table>\n",
       "</div>"
      ],
      "text/plain": [
       "                  UF  Municipio           PIB  Populacao  PIB_Percapita\n",
       "0              BAHIA   Tremedal  5.788399e+04      18433    3140.239990\n",
       "1  RIO GRANDE DO SUL     Turuçu  4.572388e+04       4000   11430.969727\n",
       "2     ESPIRITO SANTO    Vitória  1.978263e+07     320156   61790.589844\n",
       "3       MINAS GERAIS  Jacutinga  2.478160e+05      21424   11567.209961\n",
       "4              PIAUÍ    Nazária  2.095138e+04       7895    2653.750000"
      ]
     },
     "execution_count": 81,
     "metadata": {},
     "output_type": "execute_result"
    }
   ],
   "source": [
    "pib_mun_2010.head()"
   ]
  },
  {
   "cell_type": "code",
   "execution_count": 87,
   "metadata": {},
   "outputs": [],
   "source": [
    "pib_mun_ce_2010 = pib_mun_2010[pib_mun_2010['UF'] == 'CEARÁ']"
   ]
  },
  {
   "cell_type": "code",
   "execution_count": 88,
   "metadata": {},
   "outputs": [
    {
     "data": {
      "text/html": [
       "<div>\n",
       "<style scoped>\n",
       "    .dataframe tbody tr th:only-of-type {\n",
       "        vertical-align: middle;\n",
       "    }\n",
       "\n",
       "    .dataframe tbody tr th {\n",
       "        vertical-align: top;\n",
       "    }\n",
       "\n",
       "    .dataframe thead th {\n",
       "        text-align: right;\n",
       "    }\n",
       "</style>\n",
       "<table border=\"1\" class=\"dataframe\">\n",
       "  <thead>\n",
       "    <tr style=\"text-align: right;\">\n",
       "      <th></th>\n",
       "      <th>index</th>\n",
       "      <th>UF</th>\n",
       "      <th>Municipio</th>\n",
       "      <th>PIB</th>\n",
       "      <th>Populacao</th>\n",
       "      <th>PIB_Percapita</th>\n",
       "    </tr>\n",
       "  </thead>\n",
       "  <tbody>\n",
       "    <tr>\n",
       "      <th>0</th>\n",
       "      <td>26</td>\n",
       "      <td>CEARÁ</td>\n",
       "      <td>Iracema</td>\n",
       "      <td>62552.023438</td>\n",
       "      <td>15114</td>\n",
       "      <td>4138.680176</td>\n",
       "    </tr>\n",
       "    <tr>\n",
       "      <th>1</th>\n",
       "      <td>76</td>\n",
       "      <td>CEARÁ</td>\n",
       "      <td>Abaiara</td>\n",
       "      <td>33615.542969</td>\n",
       "      <td>11077</td>\n",
       "      <td>3034.719971</td>\n",
       "    </tr>\n",
       "    <tr>\n",
       "      <th>2</th>\n",
       "      <td>98</td>\n",
       "      <td>CEARÁ</td>\n",
       "      <td>Novo Oriente</td>\n",
       "      <td>93621.445312</td>\n",
       "      <td>28703</td>\n",
       "      <td>3261.729980</td>\n",
       "    </tr>\n",
       "    <tr>\n",
       "      <th>3</th>\n",
       "      <td>139</td>\n",
       "      <td>CEARÁ</td>\n",
       "      <td>Ibaretama</td>\n",
       "      <td>42010.300781</td>\n",
       "      <td>13206</td>\n",
       "      <td>3181.149902</td>\n",
       "    </tr>\n",
       "    <tr>\n",
       "      <th>4</th>\n",
       "      <td>248</td>\n",
       "      <td>CEARÁ</td>\n",
       "      <td>Acarape</td>\n",
       "      <td>56133.101562</td>\n",
       "      <td>15627</td>\n",
       "      <td>3592.060059</td>\n",
       "    </tr>\n",
       "  </tbody>\n",
       "</table>\n",
       "</div>"
      ],
      "text/plain": [
       "   index     UF     Municipio           PIB  Populacao  PIB_Percapita\n",
       "0     26  CEARÁ       Iracema  62552.023438      15114    4138.680176\n",
       "1     76  CEARÁ       Abaiara  33615.542969      11077    3034.719971\n",
       "2     98  CEARÁ  Novo Oriente  93621.445312      28703    3261.729980\n",
       "3    139  CEARÁ     Ibaretama  42010.300781      13206    3181.149902\n",
       "4    248  CEARÁ       Acarape  56133.101562      15627    3592.060059"
      ]
     },
     "execution_count": 88,
     "metadata": {},
     "output_type": "execute_result"
    }
   ],
   "source": [
    "pib_mun_ce_2010.reset_index(inplace=True)\n",
    "pib_mun_ce_2010.head()"
   ]
  },
  {
   "cell_type": "code",
   "execution_count": 94,
   "metadata": {},
   "outputs": [
    {
     "name": "stderr",
     "output_type": "stream",
     "text": [
      "C:\\Users\\klebe\\Anaconda3\\lib\\site-packages\\ipykernel_launcher.py:1: SettingWithCopyWarning: \n",
      "A value is trying to be set on a copy of a slice from a DataFrame.\n",
      "Try using .loc[row_indexer,col_indexer] = value instead\n",
      "\n",
      "See the caveats in the documentation: http://pandas.pydata.org/pandas-docs/stable/indexing.html#indexing-view-versus-copy\n",
      "  \"\"\"Entry point for launching an IPython kernel.\n"
     ]
    }
   ],
   "source": [
    "pib_mun_ce_2010['Municipio'] = pib_mun_ce_2010['Municipio'].str.upper().apply(lambda x: unidecode.unidecode(x))"
   ]
  },
  {
   "cell_type": "code",
   "execution_count": 97,
   "metadata": {},
   "outputs": [
    {
     "data": {
      "text/html": [
       "<div>\n",
       "<style scoped>\n",
       "    .dataframe tbody tr th:only-of-type {\n",
       "        vertical-align: middle;\n",
       "    }\n",
       "\n",
       "    .dataframe tbody tr th {\n",
       "        vertical-align: top;\n",
       "    }\n",
       "\n",
       "    .dataframe thead th {\n",
       "        text-align: right;\n",
       "    }\n",
       "</style>\n",
       "<table border=\"1\" class=\"dataframe\">\n",
       "  <thead>\n",
       "    <tr style=\"text-align: right;\">\n",
       "      <th></th>\n",
       "      <th>index</th>\n",
       "      <th>UF</th>\n",
       "      <th>Municipio</th>\n",
       "      <th>PIB</th>\n",
       "      <th>Populacao</th>\n",
       "      <th>PIB_Percapita</th>\n",
       "    </tr>\n",
       "  </thead>\n",
       "  <tbody>\n",
       "    <tr>\n",
       "      <th>0</th>\n",
       "      <td>26</td>\n",
       "      <td>CEARÁ</td>\n",
       "      <td>IRACEMA</td>\n",
       "      <td>62552.023438</td>\n",
       "      <td>15114</td>\n",
       "      <td>4138.680176</td>\n",
       "    </tr>\n",
       "    <tr>\n",
       "      <th>1</th>\n",
       "      <td>76</td>\n",
       "      <td>CEARÁ</td>\n",
       "      <td>ABAIARA</td>\n",
       "      <td>33615.542969</td>\n",
       "      <td>11077</td>\n",
       "      <td>3034.719971</td>\n",
       "    </tr>\n",
       "    <tr>\n",
       "      <th>2</th>\n",
       "      <td>98</td>\n",
       "      <td>CEARÁ</td>\n",
       "      <td>NOVO ORIENTE</td>\n",
       "      <td>93621.445312</td>\n",
       "      <td>28703</td>\n",
       "      <td>3261.729980</td>\n",
       "    </tr>\n",
       "    <tr>\n",
       "      <th>3</th>\n",
       "      <td>139</td>\n",
       "      <td>CEARÁ</td>\n",
       "      <td>IBARETAMA</td>\n",
       "      <td>42010.300781</td>\n",
       "      <td>13206</td>\n",
       "      <td>3181.149902</td>\n",
       "    </tr>\n",
       "    <tr>\n",
       "      <th>4</th>\n",
       "      <td>248</td>\n",
       "      <td>CEARÁ</td>\n",
       "      <td>ACARAPE</td>\n",
       "      <td>56133.101562</td>\n",
       "      <td>15627</td>\n",
       "      <td>3592.060059</td>\n",
       "    </tr>\n",
       "  </tbody>\n",
       "</table>\n",
       "</div>"
      ],
      "text/plain": [
       "   index     UF     Municipio           PIB  Populacao  PIB_Percapita\n",
       "0     26  CEARÁ       IRACEMA  62552.023438      15114    4138.680176\n",
       "1     76  CEARÁ       ABAIARA  33615.542969      11077    3034.719971\n",
       "2     98  CEARÁ  NOVO ORIENTE  93621.445312      28703    3261.729980\n",
       "3    139  CEARÁ     IBARETAMA  42010.300781      13206    3181.149902\n",
       "4    248  CEARÁ       ACARAPE  56133.101562      15627    3592.060059"
      ]
     },
     "execution_count": 97,
     "metadata": {},
     "output_type": "execute_result"
    }
   ],
   "source": [
    "pib_mun_ce_2010.head()"
   ]
  },
  {
   "cell_type": "code",
   "execution_count": 30,
   "metadata": {},
   "outputs": [],
   "source": [
    "cidades_ce = pd.read_csv('base/CIDADES_CE.csv')"
   ]
  },
  {
   "cell_type": "code",
   "execution_count": 31,
   "metadata": {},
   "outputs": [
    {
     "data": {
      "text/html": [
       "<div>\n",
       "<style scoped>\n",
       "    .dataframe tbody tr th:only-of-type {\n",
       "        vertical-align: middle;\n",
       "    }\n",
       "\n",
       "    .dataframe tbody tr th {\n",
       "        vertical-align: top;\n",
       "    }\n",
       "\n",
       "    .dataframe thead th {\n",
       "        text-align: right;\n",
       "    }\n",
       "</style>\n",
       "<table border=\"1\" class=\"dataframe\">\n",
       "  <thead>\n",
       "    <tr style=\"text-align: right;\">\n",
       "      <th></th>\n",
       "      <th>UF</th>\n",
       "      <th>CODIGO</th>\n",
       "      <th>DESCRICAO</th>\n",
       "    </tr>\n",
       "  </thead>\n",
       "  <tbody>\n",
       "    <tr>\n",
       "      <th>0</th>\n",
       "      <td>CE</td>\n",
       "      <td>2300101</td>\n",
       "      <td>ABAIARA</td>\n",
       "    </tr>\n",
       "    <tr>\n",
       "      <th>1</th>\n",
       "      <td>CE</td>\n",
       "      <td>2300150</td>\n",
       "      <td>ACARAPE</td>\n",
       "    </tr>\n",
       "    <tr>\n",
       "      <th>2</th>\n",
       "      <td>CE</td>\n",
       "      <td>2300200</td>\n",
       "      <td>ACARAU</td>\n",
       "    </tr>\n",
       "    <tr>\n",
       "      <th>3</th>\n",
       "      <td>CE</td>\n",
       "      <td>2300309</td>\n",
       "      <td>ACOPIARA</td>\n",
       "    </tr>\n",
       "    <tr>\n",
       "      <th>4</th>\n",
       "      <td>CE</td>\n",
       "      <td>2300408</td>\n",
       "      <td>AIUABA</td>\n",
       "    </tr>\n",
       "  </tbody>\n",
       "</table>\n",
       "</div>"
      ],
      "text/plain": [
       "   UF   CODIGO DESCRICAO\n",
       "0  CE  2300101   ABAIARA\n",
       "1  CE  2300150   ACARAPE\n",
       "2  CE  2300200    ACARAU\n",
       "3  CE  2300309  ACOPIARA\n",
       "4  CE  2300408    AIUABA"
      ]
     },
     "execution_count": 31,
     "metadata": {},
     "output_type": "execute_result"
    }
   ],
   "source": [
    "cidades_ce.head()"
   ]
  },
  {
   "cell_type": "code",
   "execution_count": 101,
   "metadata": {},
   "outputs": [],
   "source": [
    "merged = pib_mun_ce_2010.merge(cidades_ce, left_on='Municipio', right_on='DESCRICAO')"
   ]
  },
  {
   "cell_type": "code",
   "execution_count": 102,
   "metadata": {},
   "outputs": [
    {
     "data": {
      "text/html": [
       "<div>\n",
       "<style scoped>\n",
       "    .dataframe tbody tr th:only-of-type {\n",
       "        vertical-align: middle;\n",
       "    }\n",
       "\n",
       "    .dataframe tbody tr th {\n",
       "        vertical-align: top;\n",
       "    }\n",
       "\n",
       "    .dataframe thead th {\n",
       "        text-align: right;\n",
       "    }\n",
       "</style>\n",
       "<table border=\"1\" class=\"dataframe\">\n",
       "  <thead>\n",
       "    <tr style=\"text-align: right;\">\n",
       "      <th></th>\n",
       "      <th>index</th>\n",
       "      <th>UF_x</th>\n",
       "      <th>Municipio</th>\n",
       "      <th>PIB</th>\n",
       "      <th>Populacao</th>\n",
       "      <th>PIB_Percapita</th>\n",
       "      <th>UF_y</th>\n",
       "      <th>CODIGO</th>\n",
       "      <th>DESCRICAO</th>\n",
       "    </tr>\n",
       "  </thead>\n",
       "  <tbody>\n",
       "    <tr>\n",
       "      <th>0</th>\n",
       "      <td>26</td>\n",
       "      <td>CEARÁ</td>\n",
       "      <td>IRACEMA</td>\n",
       "      <td>62552.023438</td>\n",
       "      <td>15114</td>\n",
       "      <td>4138.680176</td>\n",
       "      <td>CE</td>\n",
       "      <td>2306009</td>\n",
       "      <td>IRACEMA</td>\n",
       "    </tr>\n",
       "    <tr>\n",
       "      <th>1</th>\n",
       "      <td>76</td>\n",
       "      <td>CEARÁ</td>\n",
       "      <td>ABAIARA</td>\n",
       "      <td>33615.542969</td>\n",
       "      <td>11077</td>\n",
       "      <td>3034.719971</td>\n",
       "      <td>CE</td>\n",
       "      <td>2300101</td>\n",
       "      <td>ABAIARA</td>\n",
       "    </tr>\n",
       "    <tr>\n",
       "      <th>2</th>\n",
       "      <td>98</td>\n",
       "      <td>CEARÁ</td>\n",
       "      <td>NOVO ORIENTE</td>\n",
       "      <td>93621.445312</td>\n",
       "      <td>28703</td>\n",
       "      <td>3261.729980</td>\n",
       "      <td>CE</td>\n",
       "      <td>2309409</td>\n",
       "      <td>NOVO ORIENTE</td>\n",
       "    </tr>\n",
       "    <tr>\n",
       "      <th>3</th>\n",
       "      <td>139</td>\n",
       "      <td>CEARÁ</td>\n",
       "      <td>IBARETAMA</td>\n",
       "      <td>42010.300781</td>\n",
       "      <td>13206</td>\n",
       "      <td>3181.149902</td>\n",
       "      <td>CE</td>\n",
       "      <td>2305266</td>\n",
       "      <td>IBARETAMA</td>\n",
       "    </tr>\n",
       "    <tr>\n",
       "      <th>4</th>\n",
       "      <td>248</td>\n",
       "      <td>CEARÁ</td>\n",
       "      <td>ACARAPE</td>\n",
       "      <td>56133.101562</td>\n",
       "      <td>15627</td>\n",
       "      <td>3592.060059</td>\n",
       "      <td>CE</td>\n",
       "      <td>2300150</td>\n",
       "      <td>ACARAPE</td>\n",
       "    </tr>\n",
       "  </tbody>\n",
       "</table>\n",
       "</div>"
      ],
      "text/plain": [
       "   index   UF_x     Municipio           PIB  Populacao  PIB_Percapita UF_y  \\\n",
       "0     26  CEARÁ       IRACEMA  62552.023438      15114    4138.680176   CE   \n",
       "1     76  CEARÁ       ABAIARA  33615.542969      11077    3034.719971   CE   \n",
       "2     98  CEARÁ  NOVO ORIENTE  93621.445312      28703    3261.729980   CE   \n",
       "3    139  CEARÁ     IBARETAMA  42010.300781      13206    3181.149902   CE   \n",
       "4    248  CEARÁ       ACARAPE  56133.101562      15627    3592.060059   CE   \n",
       "\n",
       "    CODIGO     DESCRICAO  \n",
       "0  2306009       IRACEMA  \n",
       "1  2300101       ABAIARA  \n",
       "2  2309409  NOVO ORIENTE  \n",
       "3  2305266     IBARETAMA  \n",
       "4  2300150       ACARAPE  "
      ]
     },
     "execution_count": 102,
     "metadata": {},
     "output_type": "execute_result"
    }
   ],
   "source": [
    "merged.head()"
   ]
  },
  {
   "cell_type": "code",
   "execution_count": 103,
   "metadata": {},
   "outputs": [],
   "source": [
    "pib_mun_ce_2010 = merged.drop(columns=['index', 'UF_x', 'Municipio', 'UF_y', 'DESCRICAO'])"
   ]
  },
  {
   "cell_type": "code",
   "execution_count": 104,
   "metadata": {},
   "outputs": [
    {
     "data": {
      "text/html": [
       "<div>\n",
       "<style scoped>\n",
       "    .dataframe tbody tr th:only-of-type {\n",
       "        vertical-align: middle;\n",
       "    }\n",
       "\n",
       "    .dataframe tbody tr th {\n",
       "        vertical-align: top;\n",
       "    }\n",
       "\n",
       "    .dataframe thead th {\n",
       "        text-align: right;\n",
       "    }\n",
       "</style>\n",
       "<table border=\"1\" class=\"dataframe\">\n",
       "  <thead>\n",
       "    <tr style=\"text-align: right;\">\n",
       "      <th></th>\n",
       "      <th>PIB</th>\n",
       "      <th>Populacao</th>\n",
       "      <th>PIB_Percapita</th>\n",
       "      <th>CODIGO</th>\n",
       "    </tr>\n",
       "  </thead>\n",
       "  <tbody>\n",
       "    <tr>\n",
       "      <th>0</th>\n",
       "      <td>62552.023438</td>\n",
       "      <td>15114</td>\n",
       "      <td>4138.680176</td>\n",
       "      <td>2306009</td>\n",
       "    </tr>\n",
       "    <tr>\n",
       "      <th>1</th>\n",
       "      <td>33615.542969</td>\n",
       "      <td>11077</td>\n",
       "      <td>3034.719971</td>\n",
       "      <td>2300101</td>\n",
       "    </tr>\n",
       "    <tr>\n",
       "      <th>2</th>\n",
       "      <td>93621.445312</td>\n",
       "      <td>28703</td>\n",
       "      <td>3261.729980</td>\n",
       "      <td>2309409</td>\n",
       "    </tr>\n",
       "    <tr>\n",
       "      <th>3</th>\n",
       "      <td>42010.300781</td>\n",
       "      <td>13206</td>\n",
       "      <td>3181.149902</td>\n",
       "      <td>2305266</td>\n",
       "    </tr>\n",
       "    <tr>\n",
       "      <th>4</th>\n",
       "      <td>56133.101562</td>\n",
       "      <td>15627</td>\n",
       "      <td>3592.060059</td>\n",
       "      <td>2300150</td>\n",
       "    </tr>\n",
       "  </tbody>\n",
       "</table>\n",
       "</div>"
      ],
      "text/plain": [
       "            PIB  Populacao  PIB_Percapita   CODIGO\n",
       "0  62552.023438      15114    4138.680176  2306009\n",
       "1  33615.542969      11077    3034.719971  2300101\n",
       "2  93621.445312      28703    3261.729980  2309409\n",
       "3  42010.300781      13206    3181.149902  2305266\n",
       "4  56133.101562      15627    3592.060059  2300150"
      ]
     },
     "execution_count": 104,
     "metadata": {},
     "output_type": "execute_result"
    }
   ],
   "source": [
    "pib_mun_ce_2010.head()"
   ]
  },
  {
   "cell_type": "code",
   "execution_count": 110,
   "metadata": {},
   "outputs": [],
   "source": [
    "pib_mun_ce_2010.columns = ['PIB', 'POPULACAO', 'PIB_PERCAPITA','CODIGO_MUN']"
   ]
  },
  {
   "cell_type": "code",
   "execution_count": 111,
   "metadata": {},
   "outputs": [],
   "source": [
    "pib_mun_ce_2010.to_csv('base/PIB_CE_2010.csv', index=False)"
   ]
  },
  {
   "cell_type": "code",
   "execution_count": 121,
   "metadata": {},
   "outputs": [],
   "source": [
    "pib_mun_ce_2010[['CODIGO_MUN', 'POPULACAO']].to_csv('base/POPULACAO_CE_2010.csv', index=False, decimal=',')"
   ]
  },
  {
   "cell_type": "code",
   "execution_count": 122,
   "metadata": {},
   "outputs": [],
   "source": [
    "pib_mun_ce_2010[['CODIGO_MUN', 'PIB']].to_csv('base/PIB_CE_2010.csv', index=False, decimal=',')"
   ]
  },
  {
   "cell_type": "code",
   "execution_count": 123,
   "metadata": {},
   "outputs": [],
   "source": [
    "pib_mun_ce_2010[['CODIGO_MUN', 'PIB_PERCAPITA']].to_csv('base/PIB_PERCAPITA_CE_2010.csv', index=False, decimal=',')"
   ]
  },
  {
   "cell_type": "code",
   "execution_count": null,
   "metadata": {},
   "outputs": [],
   "source": []
  }
 ],
 "metadata": {
  "kernelspec": {
   "display_name": "Python 3",
   "language": "python",
   "name": "python3"
  },
  "language_info": {
   "codemirror_mode": {
    "name": "ipython",
    "version": 3
   },
   "file_extension": ".py",
   "mimetype": "text/x-python",
   "name": "python",
   "nbconvert_exporter": "python",
   "pygments_lexer": "ipython3",
   "version": "3.6.4"
  }
 },
 "nbformat": 4,
 "nbformat_minor": 2
}
