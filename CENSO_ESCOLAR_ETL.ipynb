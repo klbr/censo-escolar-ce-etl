{
 "cells": [
  {
   "cell_type": "code",
   "execution_count": 1,
   "metadata": {},
   "outputs": [],
   "source": [
    "import pandas as pd\n",
    "import numpy as np"
   ]
  },
  {
   "cell_type": "code",
   "execution_count": 34,
   "metadata": {},
   "outputs": [],
   "source": [
    "censo_ce_2010 = pd.read_csv('data/censo_ce_2010_s.csv')"
   ]
  },
  {
   "cell_type": "code",
   "execution_count": 35,
   "metadata": {},
   "outputs": [
    {
     "data": {
      "text/html": [
       "<div>\n",
       "<style scoped>\n",
       "    .dataframe tbody tr th:only-of-type {\n",
       "        vertical-align: middle;\n",
       "    }\n",
       "\n",
       "    .dataframe tbody tr th {\n",
       "        vertical-align: top;\n",
       "    }\n",
       "\n",
       "    .dataframe thead th {\n",
       "        text-align: right;\n",
       "    }\n",
       "</style>\n",
       "<table border=\"1\" class=\"dataframe\">\n",
       "  <thead>\n",
       "    <tr style=\"text-align: right;\">\n",
       "      <th></th>\n",
       "      <th>PK_COD_MATRICULA</th>\n",
       "      <th>FK_COD_ALUNO</th>\n",
       "      <th>NUM_IDADE</th>\n",
       "      <th>TP_SEXO</th>\n",
       "      <th>TP_COR_RACA</th>\n",
       "      <th>SGL_UF_NASCIMENTO</th>\n",
       "      <th>FK_COD_MOD_ENSINO</th>\n",
       "      <th>FK_COD_ETAPA_ENSINO</th>\n",
       "      <th>PK_COD_ENTIDADE</th>\n",
       "      <th>ID_DEPENDENCIA_ADM_ESC</th>\n",
       "      <th>ID_LOCALIZACAO_ESC</th>\n",
       "    </tr>\n",
       "  </thead>\n",
       "  <tbody>\n",
       "    <tr>\n",
       "      <th>0</th>\n",
       "      <td>47828103</td>\n",
       "      <td>114857830549</td>\n",
       "      <td>15</td>\n",
       "      <td>F</td>\n",
       "      <td>0</td>\n",
       "      <td>CE</td>\n",
       "      <td>1.0</td>\n",
       "      <td>41.0</td>\n",
       "      <td>23248793</td>\n",
       "      <td>3</td>\n",
       "      <td>2</td>\n",
       "    </tr>\n",
       "    <tr>\n",
       "      <th>1</th>\n",
       "      <td>47850956</td>\n",
       "      <td>110158925580</td>\n",
       "      <td>17</td>\n",
       "      <td>F</td>\n",
       "      <td>0</td>\n",
       "      <td>CE</td>\n",
       "      <td>1.0</td>\n",
       "      <td>41.0</td>\n",
       "      <td>23248793</td>\n",
       "      <td>3</td>\n",
       "      <td>2</td>\n",
       "    </tr>\n",
       "    <tr>\n",
       "      <th>2</th>\n",
       "      <td>47832296</td>\n",
       "      <td>114230349610</td>\n",
       "      <td>14</td>\n",
       "      <td>F</td>\n",
       "      <td>0</td>\n",
       "      <td>CE</td>\n",
       "      <td>1.0</td>\n",
       "      <td>41.0</td>\n",
       "      <td>23248793</td>\n",
       "      <td>3</td>\n",
       "      <td>2</td>\n",
       "    </tr>\n",
       "    <tr>\n",
       "      <th>3</th>\n",
       "      <td>47847190</td>\n",
       "      <td>114405021537</td>\n",
       "      <td>13</td>\n",
       "      <td>M</td>\n",
       "      <td>0</td>\n",
       "      <td>CE</td>\n",
       "      <td>1.0</td>\n",
       "      <td>41.0</td>\n",
       "      <td>23248793</td>\n",
       "      <td>3</td>\n",
       "      <td>2</td>\n",
       "    </tr>\n",
       "    <tr>\n",
       "      <th>4</th>\n",
       "      <td>47854519</td>\n",
       "      <td>113102389871</td>\n",
       "      <td>15</td>\n",
       "      <td>F</td>\n",
       "      <td>0</td>\n",
       "      <td>CE</td>\n",
       "      <td>1.0</td>\n",
       "      <td>41.0</td>\n",
       "      <td>23248793</td>\n",
       "      <td>3</td>\n",
       "      <td>2</td>\n",
       "    </tr>\n",
       "  </tbody>\n",
       "</table>\n",
       "</div>"
      ],
      "text/plain": [
       "   PK_COD_MATRICULA  FK_COD_ALUNO  NUM_IDADE TP_SEXO  TP_COR_RACA  \\\n",
       "0          47828103  114857830549         15       F            0   \n",
       "1          47850956  110158925580         17       F            0   \n",
       "2          47832296  114230349610         14       F            0   \n",
       "3          47847190  114405021537         13       M            0   \n",
       "4          47854519  113102389871         15       F            0   \n",
       "\n",
       "  SGL_UF_NASCIMENTO  FK_COD_MOD_ENSINO  FK_COD_ETAPA_ENSINO  PK_COD_ENTIDADE  \\\n",
       "0                CE                1.0                 41.0         23248793   \n",
       "1                CE                1.0                 41.0         23248793   \n",
       "2                CE                1.0                 41.0         23248793   \n",
       "3                CE                1.0                 41.0         23248793   \n",
       "4                CE                1.0                 41.0         23248793   \n",
       "\n",
       "   ID_DEPENDENCIA_ADM_ESC  ID_LOCALIZACAO_ESC  \n",
       "0                       3                   2  \n",
       "1                       3                   2  \n",
       "2                       3                   2  \n",
       "3                       3                   2  \n",
       "4                       3                   2  "
      ]
     },
     "execution_count": 35,
     "metadata": {},
     "output_type": "execute_result"
    }
   ],
   "source": [
    "censo_ce_2010.head()"
   ]
  },
  {
   "cell_type": "code",
   "execution_count": 36,
   "metadata": {},
   "outputs": [
    {
     "name": "stdout",
     "output_type": "stream",
     "text": [
      "<class 'pandas.core.frame.DataFrame'>\n",
      "RangeIndex: 2589304 entries, 0 to 2589303\n",
      "Data columns (total 11 columns):\n",
      "PK_COD_MATRICULA          int64\n",
      "FK_COD_ALUNO              int64\n",
      "NUM_IDADE                 int64\n",
      "TP_SEXO                   object\n",
      "TP_COR_RACA               int64\n",
      "SGL_UF_NASCIMENTO         object\n",
      "FK_COD_MOD_ENSINO         float64\n",
      "FK_COD_ETAPA_ENSINO       float64\n",
      "PK_COD_ENTIDADE           int64\n",
      "ID_DEPENDENCIA_ADM_ESC    int64\n",
      "ID_LOCALIZACAO_ESC        int64\n",
      "dtypes: float64(2), int64(7), object(2)\n",
      "memory usage: 217.3+ MB\n"
     ]
    }
   ],
   "source": [
    "censo_ce_2010.info()"
   ]
  },
  {
   "cell_type": "code",
   "execution_count": 37,
   "metadata": {},
   "outputs": [],
   "source": [
    "censo_ce_2010.columns = ['MATRICULA', 'COD_ALUNO', 'IDADE', 'SEXO', 'TP_COR_RACA', 'UF_NASCIMENTO', 'COD_MOD_ENSINO', 'COD_ETAPA_ENSINO', 'COD_ESCOLA', 'DEPENDENCIA_ADM_ESC', 'LOCALIZACAO_ESC']"
   ]
  },
  {
   "cell_type": "code",
   "execution_count": 39,
   "metadata": {},
   "outputs": [],
   "source": [
    "censo_ce_2010[['MATRICULA', 'COD_ALUNO', 'IDADE', 'SEXO', 'TP_COR_RACA', 'UF_NASCIMENTO', 'COD_MOD_ENSINO', 'COD_ETAPA_ENSINO', 'COD_ESCOLA']].to_csv('base/ALUNOS_CE_2010.csv', index=False)"
   ]
  },
  {
   "cell_type": "code",
   "execution_count": null,
   "metadata": {},
   "outputs": [],
   "source": []
  }
 ],
 "metadata": {
  "kernelspec": {
   "display_name": "Python 3",
   "language": "python",
   "name": "python3"
  },
  "language_info": {
   "codemirror_mode": {
    "name": "ipython",
    "version": 3
   },
   "file_extension": ".py",
   "mimetype": "text/x-python",
   "name": "python",
   "nbconvert_exporter": "python",
   "pygments_lexer": "ipython3",
   "version": "3.6.4"
  }
 },
 "nbformat": 4,
 "nbformat_minor": 2
}
